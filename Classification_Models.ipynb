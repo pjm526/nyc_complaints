{
  "nbformat": 4,
  "nbformat_minor": 0,
  "metadata": {
    "colab": {
      "name": "Classification Models.ipynb",
      "version": "0.3.2",
      "provenance": []
    },
    "kernelspec": {
      "name": "python3",
      "display_name": "Python 3"
    }
  },
  "cells": [
    {
      "metadata": {
        "id": "tKPhSwdD41se",
        "colab_type": "code",
        "colab": {}
      },
      "cell_type": "code",
      "source": [
        "import pandas as pd\n",
        "import urllib\n",
        "import geopandas as gpd"
      ],
      "execution_count": 0,
      "outputs": []
    },
    {
      "metadata": {
        "id": "w6n_BKhg1N0K",
        "colab_type": "code",
        "outputId": "a66a4b6b-4d90-48a5-ff58-4781a4afadb8",
        "colab": {
          "base_uri": "https://localhost:8080/",
          "height": 598
        }
      },
      "cell_type": "code",
      "source": [
        "!pip install geopandas"
      ],
      "execution_count": 2,
      "outputs": [
        {
          "output_type": "stream",
          "text": [
            "Collecting geopandas\n",
            "\u001b[?25l  Downloading https://files.pythonhosted.org/packages/24/11/d77c157c16909bd77557d00798b05a5b6615ed60acb5900fbe6a65d35e93/geopandas-0.4.0-py2.py3-none-any.whl (899kB)\n",
            "\u001b[K    100% |████████████████████████████████| 901kB 20.0MB/s \n",
            "\u001b[?25hRequirement already satisfied: pandas in /usr/local/lib/python3.6/dist-packages (from geopandas) (0.22.0)\n",
            "Collecting pyproj (from geopandas)\n",
            "\u001b[?25l  Downloading https://files.pythonhosted.org/packages/26/8c/1da0580f334718e04f8bbf74f0515a7fb8185ff96b2560ce080c11aa145b/pyproj-1.9.6.tar.gz (2.8MB)\n",
            "\u001b[K    100% |████████████████████████████████| 2.8MB 8.6MB/s \n",
            "\u001b[?25hCollecting shapely (from geopandas)\n",
            "\u001b[?25l  Downloading https://files.pythonhosted.org/packages/38/b6/b53f19062afd49bb5abd049aeed36f13bf8d57ef8f3fa07a5203531a0252/Shapely-1.6.4.post2-cp36-cp36m-manylinux1_x86_64.whl (1.5MB)\n",
            "\u001b[K    100% |████████████████████████████████| 1.5MB 16.1MB/s \n",
            "\u001b[?25hCollecting fiona (from geopandas)\n",
            "\u001b[?25l  Downloading https://files.pythonhosted.org/packages/51/d8/2a97aea07eed6675187c42411bfca30816dfdd6831c125c123bac74f0465/Fiona-1.8.4-cp36-cp36m-manylinux1_x86_64.whl (17.9MB)\n",
            "\u001b[K    100% |████████████████████████████████| 17.9MB 1.7MB/s \n",
            "\u001b[?25hRequirement already satisfied: python-dateutil>=2 in /usr/local/lib/python3.6/dist-packages (from pandas->geopandas) (2.5.3)\n",
            "Requirement already satisfied: pytz>=2011k in /usr/local/lib/python3.6/dist-packages (from pandas->geopandas) (2018.9)\n",
            "Requirement already satisfied: numpy>=1.9.0 in /usr/local/lib/python3.6/dist-packages (from pandas->geopandas) (1.14.6)\n",
            "Requirement already satisfied: attrs>=17 in /usr/local/lib/python3.6/dist-packages (from fiona->geopandas) (18.2.0)\n",
            "Requirement already satisfied: click<8,>=4.0 in /usr/local/lib/python3.6/dist-packages (from fiona->geopandas) (7.0)\n",
            "Requirement already satisfied: six>=1.7 in /usr/local/lib/python3.6/dist-packages (from fiona->geopandas) (1.11.0)\n",
            "Collecting click-plugins>=1.0 (from fiona->geopandas)\n",
            "  Downloading https://files.pythonhosted.org/packages/95/dd/fef84cf1678418f241ef542c0288bdf215bdd3e35f1fe03dc5223a2e80ba/click_plugins-1.0.4-py2.py3-none-any.whl\n",
            "Collecting cligj>=0.5 (from fiona->geopandas)\n",
            "  Downloading https://files.pythonhosted.org/packages/e4/be/30a58b4b0733850280d01f8bd132591b4668ed5c7046761098d665ac2174/cligj-0.5.0-py3-none-any.whl\n",
            "Collecting munch (from fiona->geopandas)\n",
            "  Downloading https://files.pythonhosted.org/packages/68/f4/260ec98ea840757a0da09e0ed8135333d59b8dfebe9752a365b04857660a/munch-2.3.2.tar.gz\n",
            "Building wheels for collected packages: pyproj, munch\n",
            "  Building wheel for pyproj (setup.py) ... \u001b[?25ldone\n",
            "\u001b[?25h  Stored in directory: /root/.cache/pip/wheels/02/cd/b1/a2d6430f74c7a778a43d62f78bec109ca69c732dc9b929142a\n",
            "  Building wheel for munch (setup.py) ... \u001b[?25ldone\n",
            "\u001b[?25h  Stored in directory: /root/.cache/pip/wheels/db/bf/bc/06a3e1bfe0ab27d2e720ceb3cff3159398d92644c0cec2c125\n",
            "Successfully built pyproj munch\n",
            "Installing collected packages: pyproj, shapely, click-plugins, cligj, munch, fiona, geopandas\n",
            "Successfully installed click-plugins-1.0.4 cligj-0.5.0 fiona-1.8.4 geopandas-0.4.0 munch-2.3.2 pyproj-1.9.6 shapely-1.6.4.post2\n"
          ],
          "name": "stdout"
        }
      ]
    },
    {
      "metadata": {
        "id": "oonnBfFR3aTt",
        "colab_type": "code",
        "outputId": "a6d1596c-a01d-40ad-b3c3-3ad6a3762643",
        "colab": {
          "base_uri": "https://localhost:8080/",
          "height": 52
        }
      },
      "cell_type": "code",
      "source": [
        "!pip install -U -q PyDrive\n",
        "from pydrive.auth import GoogleAuth\n",
        "from pydrive.drive import GoogleDrive\n",
        "from google.colab import auth\n",
        "from oauth2client.client import GoogleCredentials\n",
        "\n",
        "# 1. Authenticate and create the PyDrive client.\n",
        "auth.authenticate_user()\n",
        "gauth = GoogleAuth()\n",
        "gauth.credentials = GoogleCredentials.get_application_default()\n",
        "drive = GoogleDrive(gauth)\n",
        "\n",
        "#2. Get the file\n",
        "downloaded = drive.CreateFile({'id':'1FPhtWi23NnegizXzESe9LG8P486Xyl6r'}) # replace the id with id of file you want to access\n",
        "downloaded.GetContentFile('model_data_f.csv')  "
      ],
      "execution_count": 5,
      "outputs": [
        {
          "output_type": "stream",
          "text": [
            "\u001b[?25l\r\u001b[K    1% |▎                               | 10kB 17.8MB/s eta 0:00:01\r\u001b[K    2% |▋                               | 20kB 1.8MB/s eta 0:00:01\r\u001b[K    3% |█                               | 30kB 2.6MB/s eta 0:00:01\r\u001b[K    4% |█▎                              | 40kB 1.8MB/s eta 0:00:01\r\u001b[K    5% |█▋                              | 51kB 2.2MB/s eta 0:00:01\r\u001b[K    6% |██                              | 61kB 2.6MB/s eta 0:00:01\r\u001b[K    7% |██▎                             | 71kB 3.0MB/s eta 0:00:01\r\u001b[K    8% |██▋                             | 81kB 3.4MB/s eta 0:00:01\r\u001b[K    9% |███                             | 92kB 3.8MB/s eta 0:00:01\r\u001b[K    10% |███▎                            | 102kB 2.9MB/s eta 0:00:01\r\u001b[K    11% |███▋                            | 112kB 2.9MB/s eta 0:00:01\r\u001b[K    12% |████                            | 122kB 4.1MB/s eta 0:00:01\r\u001b[K    13% |████▎                           | 133kB 4.2MB/s eta 0:00:01\r\u001b[K    14% |████▋                           | 143kB 7.7MB/s eta 0:00:01\r\u001b[K    15% |█████                           | 153kB 7.9MB/s eta 0:00:01\r\u001b[K    16% |█████▎                          | 163kB 7.9MB/s eta 0:00:01\r\u001b[K    17% |█████▋                          | 174kB 7.8MB/s eta 0:00:01\r\u001b[K    18% |██████                          | 184kB 7.8MB/s eta 0:00:01\r\u001b[K    19% |██████▎                         | 194kB 7.8MB/s eta 0:00:01\r\u001b[K    20% |██████▋                         | 204kB 42.2MB/s eta 0:00:01\r\u001b[K    21% |███████                         | 215kB 8.6MB/s eta 0:00:01\r\u001b[K    22% |███████▎                        | 225kB 8.5MB/s eta 0:00:01\r\u001b[K    23% |███████▋                        | 235kB 8.6MB/s eta 0:00:01\r\u001b[K    24% |████████                        | 245kB 8.6MB/s eta 0:00:01\r\u001b[K    25% |████████▎                       | 256kB 8.6MB/s eta 0:00:01\r\u001b[K    26% |████████▋                       | 266kB 8.4MB/s eta 0:00:01\r\u001b[K    27% |█████████                       | 276kB 8.5MB/s eta 0:00:01\r\u001b[K    29% |█████████▎                      | 286kB 8.5MB/s eta 0:00:01\r\u001b[K    30% |█████████▋                      | 296kB 8.5MB/s eta 0:00:01\r\u001b[K    31% |██████████                      | 307kB 8.7MB/s eta 0:00:01\r\u001b[K    32% |██████████▎                     | 317kB 49.1MB/s eta 0:00:01\r\u001b[K    33% |██████████▋                     | 327kB 53.7MB/s eta 0:00:01\r\u001b[K    34% |███████████                     | 337kB 57.5MB/s eta 0:00:01\r\u001b[K    35% |███████████▎                    | 348kB 50.8MB/s eta 0:00:01\r\u001b[K    36% |███████████▋                    | 358kB 50.6MB/s eta 0:00:01\r\u001b[K    37% |████████████                    | 368kB 60.0MB/s eta 0:00:01\r\u001b[K    38% |████████████▎                   | 378kB 60.3MB/s eta 0:00:01\r\u001b[K    39% |████████████▋                   | 389kB 61.1MB/s eta 0:00:01\r\u001b[K    40% |█████████████                   | 399kB 10.0MB/s eta 0:00:01\r\u001b[K    41% |█████████████▎                  | 409kB 9.8MB/s eta 0:00:01\r\u001b[K    42% |█████████████▋                  | 419kB 9.7MB/s eta 0:00:01\r\u001b[K    43% |██████████████                  | 430kB 9.7MB/s eta 0:00:01\r\u001b[K    44% |██████████████▎                 | 440kB 9.7MB/s eta 0:00:01\r\u001b[K    45% |██████████████▋                 | 450kB 9.7MB/s eta 0:00:01\r\u001b[K    46% |███████████████                 | 460kB 9.7MB/s eta 0:00:01\r\u001b[K    47% |███████████████▎                | 471kB 9.7MB/s eta 0:00:01\r\u001b[K    48% |███████████████▋                | 481kB 9.7MB/s eta 0:00:01\r\u001b[K    49% |████████████████                | 491kB 9.7MB/s eta 0:00:01\r\u001b[K    50% |████████████████▎               | 501kB 51.2MB/s eta 0:00:01\r\u001b[K    51% |████████████████▋               | 512kB 50.8MB/s eta 0:00:01\r\u001b[K    52% |█████████████████               | 522kB 51.8MB/s eta 0:00:01\r\u001b[K    53% |█████████████████▎              | 532kB 52.8MB/s eta 0:00:01\r\u001b[K    54% |█████████████████▋              | 542kB 9.1MB/s eta 0:00:01\r\u001b[K    55% |██████████████████              | 552kB 9.1MB/s eta 0:00:01\r\u001b[K    57% |██████████████████▎             | 563kB 9.1MB/s eta 0:00:01\r\u001b[K    58% |██████████████████▋             | 573kB 9.0MB/s eta 0:00:01\r\u001b[K    59% |███████████████████             | 583kB 9.0MB/s eta 0:00:01\r\u001b[K    60% |███████████████████▎            | 593kB 9.0MB/s eta 0:00:01\r\u001b[K    61% |███████████████████▋            | 604kB 9.0MB/s eta 0:00:01\r\u001b[K    62% |████████████████████            | 614kB 9.2MB/s eta 0:00:01\r\u001b[K    63% |████████████████████▎           | 624kB 9.2MB/s eta 0:00:01\r\u001b[K    64% |████████████████████▋           | 634kB 9.2MB/s eta 0:00:01\r\u001b[K    65% |█████████████████████           | 645kB 58.0MB/s eta 0:00:01\r\u001b[K    66% |█████████████████████▎          | 655kB 67.3MB/s eta 0:00:01\r\u001b[K    67% |█████████████████████▋          | 665kB 44.0MB/s eta 0:00:01\r\u001b[K    68% |██████████████████████          | 675kB 42.6MB/s eta 0:00:01\r\u001b[K    69% |██████████████████████▎         | 686kB 42.4MB/s eta 0:00:01\r\u001b[K    70% |██████████████████████▋         | 696kB 42.6MB/s eta 0:00:01\r\u001b[K    71% |███████████████████████         | 706kB 42.4MB/s eta 0:00:01\r\u001b[K    72% |███████████████████████▎        | 716kB 42.3MB/s eta 0:00:01\r\u001b[K    73% |███████████████████████▋        | 727kB 42.1MB/s eta 0:00:01\r\u001b[K    74% |████████████████████████        | 737kB 41.9MB/s eta 0:00:01\r\u001b[K    75% |████████████████████████▎       | 747kB 41.6MB/s eta 0:00:01\r\u001b[K    76% |████████████████████████▋       | 757kB 41.4MB/s eta 0:00:01\r\u001b[K    77% |████████████████████████▉       | 768kB 64.7MB/s eta 0:00:01\r\u001b[K    78% |█████████████████████████▏      | 778kB 69.0MB/s eta 0:00:01\r\u001b[K    79% |█████████████████████████▌      | 788kB 69.9MB/s eta 0:00:01\r\u001b[K    80% |█████████████████████████▉      | 798kB 69.9MB/s eta 0:00:01\r\u001b[K    81% |██████████████████████████▏     | 808kB 71.1MB/s eta 0:00:01\r\u001b[K    82% |██████████████████████████▌     | 819kB 71.0MB/s eta 0:00:01\r\u001b[K    83% |██████████████████████████▉     | 829kB 72.7MB/s eta 0:00:01\r\u001b[K    85% |███████████████████████████▏    | 839kB 73.8MB/s eta 0:00:01\r\u001b[K    86% |███████████████████████████▌    | 849kB 74.9MB/s eta 0:00:01\r\u001b[K    87% |███████████████████████████▉    | 860kB 58.9MB/s eta 0:00:01\r\u001b[K    88% |████████████████████████████▏   | 870kB 57.9MB/s eta 0:00:01\r\u001b[K    89% |████████████████████████████▌   | 880kB 58.8MB/s eta 0:00:01\r\u001b[K    90% |████████████████████████████▉   | 890kB 58.9MB/s eta 0:00:01\r\u001b[K    91% |█████████████████████████████▏  | 901kB 58.6MB/s eta 0:00:01\r\u001b[K    92% |█████████████████████████████▌  | 911kB 58.8MB/s eta 0:00:01\r\u001b[K    93% |█████████████████████████████▉  | 921kB 59.0MB/s eta 0:00:01\r\u001b[K    94% |██████████████████████████████▏ | 931kB 58.6MB/s eta 0:00:01\r\u001b[K    95% |██████████████████████████████▌ | 942kB 58.8MB/s eta 0:00:01\r\u001b[K    96% |██████████████████████████████▉ | 952kB 59.7MB/s eta 0:00:01\r\u001b[K    97% |███████████████████████████████▏| 962kB 79.3MB/s eta 0:00:01\r\u001b[K    98% |███████████████████████████████▌| 972kB 81.8MB/s eta 0:00:01\r\u001b[K    99% |███████████████████████████████▉| 983kB 80.8MB/s eta 0:00:01\r\u001b[K    100% |████████████████████████████████| 993kB 20.7MB/s \n",
            "\u001b[?25h  Building wheel for PyDrive (setup.py) ... \u001b[?25ldone\n",
            "\u001b[?25h"
          ],
          "name": "stdout"
        }
      ]
    },
    {
      "metadata": {
        "id": "LyV49tqifvZ0",
        "colab_type": "code",
        "colab": {}
      },
      "cell_type": "code",
      "source": [
        "data_one_hop1 = pd.read_csv('model_data_f.csv')"
      ],
      "execution_count": 0,
      "outputs": []
    },
    {
      "metadata": {
        "id": "Iuis0-MWhK_S",
        "colab_type": "code",
        "outputId": "cb7aa1be-7397-403c-bcd5-2c9345432293",
        "colab": {
          "base_uri": "https://localhost:8080/",
          "height": 244
        }
      },
      "cell_type": "code",
      "source": [
        "data_one_hop1.head()"
      ],
      "execution_count": 7,
      "outputs": [
        {
          "output_type": "execute_result",
          "data": {
            "text/html": [
              "<div>\n",
              "<style scoped>\n",
              "    .dataframe tbody tr th:only-of-type {\n",
              "        vertical-align: middle;\n",
              "    }\n",
              "\n",
              "    .dataframe tbody tr th {\n",
              "        vertical-align: top;\n",
              "    }\n",
              "\n",
              "    .dataframe thead th {\n",
              "        text-align: right;\n",
              "    }\n",
              "</style>\n",
              "<table border=\"1\" class=\"dataframe\">\n",
              "  <thead>\n",
              "    <tr style=\"text-align: right;\">\n",
              "      <th></th>\n",
              "      <th>ADDR_PCT_CD</th>\n",
              "      <th>CRM_ATPT_CPTD_CD</th>\n",
              "      <th>JURISDICTION_CODE</th>\n",
              "      <th>KY_CD</th>\n",
              "      <th>LAW_CAT_CD</th>\n",
              "      <th>LOC_OF_OCCUR_DESC</th>\n",
              "      <th>PARKS_NM</th>\n",
              "      <th>SUSP_AGE_GROUP</th>\n",
              "      <th>SUSP_RACE</th>\n",
              "      <th>SUSP_SEX</th>\n",
              "      <th>...</th>\n",
              "      <th>hour_14</th>\n",
              "      <th>hour_15</th>\n",
              "      <th>hour_16</th>\n",
              "      <th>hour_17</th>\n",
              "      <th>hour_18</th>\n",
              "      <th>hour_19</th>\n",
              "      <th>hour_20</th>\n",
              "      <th>hour_21</th>\n",
              "      <th>hour_22</th>\n",
              "      <th>hour_23</th>\n",
              "    </tr>\n",
              "  </thead>\n",
              "  <tbody>\n",
              "    <tr>\n",
              "      <th>0</th>\n",
              "      <td>41</td>\n",
              "      <td>0</td>\n",
              "      <td>0.0</td>\n",
              "      <td>235</td>\n",
              "      <td>1</td>\n",
              "      <td>-1.0</td>\n",
              "      <td>0</td>\n",
              "      <td>18-24</td>\n",
              "      <td>1</td>\n",
              "      <td>1</td>\n",
              "      <td>...</td>\n",
              "      <td>0</td>\n",
              "      <td>0</td>\n",
              "      <td>0</td>\n",
              "      <td>0</td>\n",
              "      <td>0</td>\n",
              "      <td>0</td>\n",
              "      <td>0</td>\n",
              "      <td>0</td>\n",
              "      <td>0</td>\n",
              "      <td>1</td>\n",
              "    </tr>\n",
              "    <tr>\n",
              "      <th>1</th>\n",
              "      <td>104</td>\n",
              "      <td>0</td>\n",
              "      <td>0.0</td>\n",
              "      <td>347</td>\n",
              "      <td>1</td>\n",
              "      <td>1.0</td>\n",
              "      <td>0</td>\n",
              "      <td>45-64</td>\n",
              "      <td>2</td>\n",
              "      <td>1</td>\n",
              "      <td>...</td>\n",
              "      <td>0</td>\n",
              "      <td>0</td>\n",
              "      <td>0</td>\n",
              "      <td>0</td>\n",
              "      <td>0</td>\n",
              "      <td>0</td>\n",
              "      <td>0</td>\n",
              "      <td>0</td>\n",
              "      <td>0</td>\n",
              "      <td>1</td>\n",
              "    </tr>\n",
              "    <tr>\n",
              "      <th>2</th>\n",
              "      <td>41</td>\n",
              "      <td>0</td>\n",
              "      <td>0.0</td>\n",
              "      <td>235</td>\n",
              "      <td>1</td>\n",
              "      <td>1.0</td>\n",
              "      <td>0</td>\n",
              "      <td>25-44</td>\n",
              "      <td>1</td>\n",
              "      <td>1</td>\n",
              "      <td>...</td>\n",
              "      <td>0</td>\n",
              "      <td>0</td>\n",
              "      <td>0</td>\n",
              "      <td>0</td>\n",
              "      <td>0</td>\n",
              "      <td>0</td>\n",
              "      <td>0</td>\n",
              "      <td>0</td>\n",
              "      <td>1</td>\n",
              "      <td>0</td>\n",
              "    </tr>\n",
              "    <tr>\n",
              "      <th>3</th>\n",
              "      <td>28</td>\n",
              "      <td>0</td>\n",
              "      <td>0.0</td>\n",
              "      <td>341</td>\n",
              "      <td>1</td>\n",
              "      <td>0.0</td>\n",
              "      <td>0</td>\n",
              "      <td>25-44</td>\n",
              "      <td>1</td>\n",
              "      <td>2</td>\n",
              "      <td>...</td>\n",
              "      <td>0</td>\n",
              "      <td>0</td>\n",
              "      <td>0</td>\n",
              "      <td>0</td>\n",
              "      <td>0</td>\n",
              "      <td>0</td>\n",
              "      <td>0</td>\n",
              "      <td>0</td>\n",
              "      <td>1</td>\n",
              "      <td>0</td>\n",
              "    </tr>\n",
              "    <tr>\n",
              "      <th>4</th>\n",
              "      <td>52</td>\n",
              "      <td>0</td>\n",
              "      <td>0.0</td>\n",
              "      <td>113</td>\n",
              "      <td>0</td>\n",
              "      <td>1.0</td>\n",
              "      <td>0</td>\n",
              "      <td>UNKNOWN</td>\n",
              "      <td>0</td>\n",
              "      <td>0</td>\n",
              "      <td>...</td>\n",
              "      <td>0</td>\n",
              "      <td>0</td>\n",
              "      <td>0</td>\n",
              "      <td>0</td>\n",
              "      <td>0</td>\n",
              "      <td>0</td>\n",
              "      <td>0</td>\n",
              "      <td>0</td>\n",
              "      <td>1</td>\n",
              "      <td>0</td>\n",
              "    </tr>\n",
              "  </tbody>\n",
              "</table>\n",
              "<p>5 rows × 117 columns</p>\n",
              "</div>"
            ],
            "text/plain": [
              "   ADDR_PCT_CD  CRM_ATPT_CPTD_CD  JURISDICTION_CODE  KY_CD  LAW_CAT_CD  \\\n",
              "0           41                 0                0.0    235           1   \n",
              "1          104                 0                0.0    347           1   \n",
              "2           41                 0                0.0    235           1   \n",
              "3           28                 0                0.0    341           1   \n",
              "4           52                 0                0.0    113           0   \n",
              "\n",
              "   LOC_OF_OCCUR_DESC  PARKS_NM SUSP_AGE_GROUP  SUSP_RACE  SUSP_SEX   ...     \\\n",
              "0               -1.0         0          18-24          1         1   ...      \n",
              "1                1.0         0          45-64          2         1   ...      \n",
              "2                1.0         0          25-44          1         1   ...      \n",
              "3                0.0         0          25-44          1         2   ...      \n",
              "4                1.0         0        UNKNOWN          0         0   ...      \n",
              "\n",
              "  hour_14  hour_15  hour_16  hour_17  hour_18  hour_19  hour_20  hour_21  \\\n",
              "0       0        0        0        0        0        0        0        0   \n",
              "1       0        0        0        0        0        0        0        0   \n",
              "2       0        0        0        0        0        0        0        0   \n",
              "3       0        0        0        0        0        0        0        0   \n",
              "4       0        0        0        0        0        0        0        0   \n",
              "\n",
              "   hour_22  hour_23  \n",
              "0        0        1  \n",
              "1        0        1  \n",
              "2        1        0  \n",
              "3        1        0  \n",
              "4        1        0  \n",
              "\n",
              "[5 rows x 117 columns]"
            ]
          },
          "metadata": {
            "tags": []
          },
          "execution_count": 7
        }
      ]
    },
    {
      "metadata": {
        "id": "d3mgw2-ZhMYb",
        "colab_type": "code",
        "colab": {}
      },
      "cell_type": "code",
      "source": [
        "data_one_hop1.drop(columns = ['JURISDICTION_CODE','SUSP_AGE_GROUP','VIC_AGE_GROUP','yearoc'], inplace = True)"
      ],
      "execution_count": 0,
      "outputs": []
    },
    {
      "metadata": {
        "id": "UlF4p8DviGth",
        "colab_type": "code",
        "colab": {}
      },
      "cell_type": "code",
      "source": [
        "tester = data_one_hop1[['KY_CD']]"
      ],
      "execution_count": 0,
      "outputs": []
    },
    {
      "metadata": {
        "id": "rStJNLPTirt5",
        "colab_type": "code",
        "outputId": "75769836-597c-432d-a12c-bceee55e69c5",
        "colab": {
          "base_uri": "https://localhost:8080/",
          "height": 195
        }
      },
      "cell_type": "code",
      "source": [
        "tester.head()"
      ],
      "execution_count": 10,
      "outputs": [
        {
          "output_type": "execute_result",
          "data": {
            "text/html": [
              "<div>\n",
              "<style scoped>\n",
              "    .dataframe tbody tr th:only-of-type {\n",
              "        vertical-align: middle;\n",
              "    }\n",
              "\n",
              "    .dataframe tbody tr th {\n",
              "        vertical-align: top;\n",
              "    }\n",
              "\n",
              "    .dataframe thead th {\n",
              "        text-align: right;\n",
              "    }\n",
              "</style>\n",
              "<table border=\"1\" class=\"dataframe\">\n",
              "  <thead>\n",
              "    <tr style=\"text-align: right;\">\n",
              "      <th></th>\n",
              "      <th>KY_CD</th>\n",
              "    </tr>\n",
              "  </thead>\n",
              "  <tbody>\n",
              "    <tr>\n",
              "      <th>0</th>\n",
              "      <td>235</td>\n",
              "    </tr>\n",
              "    <tr>\n",
              "      <th>1</th>\n",
              "      <td>347</td>\n",
              "    </tr>\n",
              "    <tr>\n",
              "      <th>2</th>\n",
              "      <td>235</td>\n",
              "    </tr>\n",
              "    <tr>\n",
              "      <th>3</th>\n",
              "      <td>341</td>\n",
              "    </tr>\n",
              "    <tr>\n",
              "      <th>4</th>\n",
              "      <td>113</td>\n",
              "    </tr>\n",
              "  </tbody>\n",
              "</table>\n",
              "</div>"
            ],
            "text/plain": [
              "   KY_CD\n",
              "0    235\n",
              "1    347\n",
              "2    235\n",
              "3    341\n",
              "4    113"
            ]
          },
          "metadata": {
            "tags": []
          },
          "execution_count": 10
        }
      ]
    },
    {
      "metadata": {
        "id": "YFvvds6MluA6",
        "colab_type": "code",
        "colab": {}
      },
      "cell_type": "code",
      "source": [
        "data_one_hop1.drop(columns = ['KY_CD'],inplace = True)"
      ],
      "execution_count": 0,
      "outputs": []
    },
    {
      "metadata": {
        "id": "WmyYjcP0l5Pq",
        "colab_type": "code",
        "outputId": "9f8db32d-a7d5-4a50-c652-87a884f837ba",
        "colab": {
          "base_uri": "https://localhost:8080/",
          "height": 244
        }
      },
      "cell_type": "code",
      "source": [
        "data_one_hop1.head()"
      ],
      "execution_count": 12,
      "outputs": [
        {
          "output_type": "execute_result",
          "data": {
            "text/html": [
              "<div>\n",
              "<style scoped>\n",
              "    .dataframe tbody tr th:only-of-type {\n",
              "        vertical-align: middle;\n",
              "    }\n",
              "\n",
              "    .dataframe tbody tr th {\n",
              "        vertical-align: top;\n",
              "    }\n",
              "\n",
              "    .dataframe thead th {\n",
              "        text-align: right;\n",
              "    }\n",
              "</style>\n",
              "<table border=\"1\" class=\"dataframe\">\n",
              "  <thead>\n",
              "    <tr style=\"text-align: right;\">\n",
              "      <th></th>\n",
              "      <th>ADDR_PCT_CD</th>\n",
              "      <th>CRM_ATPT_CPTD_CD</th>\n",
              "      <th>LAW_CAT_CD</th>\n",
              "      <th>LOC_OF_OCCUR_DESC</th>\n",
              "      <th>PARKS_NM</th>\n",
              "      <th>SUSP_RACE</th>\n",
              "      <th>SUSP_SEX</th>\n",
              "      <th>VIC_RACE</th>\n",
              "      <th>VIC_SEX</th>\n",
              "      <th>hour</th>\n",
              "      <th>...</th>\n",
              "      <th>hour_14</th>\n",
              "      <th>hour_15</th>\n",
              "      <th>hour_16</th>\n",
              "      <th>hour_17</th>\n",
              "      <th>hour_18</th>\n",
              "      <th>hour_19</th>\n",
              "      <th>hour_20</th>\n",
              "      <th>hour_21</th>\n",
              "      <th>hour_22</th>\n",
              "      <th>hour_23</th>\n",
              "    </tr>\n",
              "  </thead>\n",
              "  <tbody>\n",
              "    <tr>\n",
              "      <th>0</th>\n",
              "      <td>41</td>\n",
              "      <td>0</td>\n",
              "      <td>1</td>\n",
              "      <td>-1.0</td>\n",
              "      <td>0</td>\n",
              "      <td>1</td>\n",
              "      <td>1</td>\n",
              "      <td>0</td>\n",
              "      <td>0</td>\n",
              "      <td>23</td>\n",
              "      <td>...</td>\n",
              "      <td>0</td>\n",
              "      <td>0</td>\n",
              "      <td>0</td>\n",
              "      <td>0</td>\n",
              "      <td>0</td>\n",
              "      <td>0</td>\n",
              "      <td>0</td>\n",
              "      <td>0</td>\n",
              "      <td>0</td>\n",
              "      <td>1</td>\n",
              "    </tr>\n",
              "    <tr>\n",
              "      <th>1</th>\n",
              "      <td>104</td>\n",
              "      <td>0</td>\n",
              "      <td>1</td>\n",
              "      <td>1.0</td>\n",
              "      <td>0</td>\n",
              "      <td>2</td>\n",
              "      <td>1</td>\n",
              "      <td>0</td>\n",
              "      <td>0</td>\n",
              "      <td>23</td>\n",
              "      <td>...</td>\n",
              "      <td>0</td>\n",
              "      <td>0</td>\n",
              "      <td>0</td>\n",
              "      <td>0</td>\n",
              "      <td>0</td>\n",
              "      <td>0</td>\n",
              "      <td>0</td>\n",
              "      <td>0</td>\n",
              "      <td>0</td>\n",
              "      <td>1</td>\n",
              "    </tr>\n",
              "    <tr>\n",
              "      <th>2</th>\n",
              "      <td>41</td>\n",
              "      <td>0</td>\n",
              "      <td>1</td>\n",
              "      <td>1.0</td>\n",
              "      <td>0</td>\n",
              "      <td>1</td>\n",
              "      <td>1</td>\n",
              "      <td>0</td>\n",
              "      <td>0</td>\n",
              "      <td>22</td>\n",
              "      <td>...</td>\n",
              "      <td>0</td>\n",
              "      <td>0</td>\n",
              "      <td>0</td>\n",
              "      <td>0</td>\n",
              "      <td>0</td>\n",
              "      <td>0</td>\n",
              "      <td>0</td>\n",
              "      <td>0</td>\n",
              "      <td>1</td>\n",
              "      <td>0</td>\n",
              "    </tr>\n",
              "    <tr>\n",
              "      <th>3</th>\n",
              "      <td>28</td>\n",
              "      <td>0</td>\n",
              "      <td>1</td>\n",
              "      <td>0.0</td>\n",
              "      <td>0</td>\n",
              "      <td>1</td>\n",
              "      <td>2</td>\n",
              "      <td>0</td>\n",
              "      <td>0</td>\n",
              "      <td>22</td>\n",
              "      <td>...</td>\n",
              "      <td>0</td>\n",
              "      <td>0</td>\n",
              "      <td>0</td>\n",
              "      <td>0</td>\n",
              "      <td>0</td>\n",
              "      <td>0</td>\n",
              "      <td>0</td>\n",
              "      <td>0</td>\n",
              "      <td>1</td>\n",
              "      <td>0</td>\n",
              "    </tr>\n",
              "    <tr>\n",
              "      <th>4</th>\n",
              "      <td>52</td>\n",
              "      <td>0</td>\n",
              "      <td>0</td>\n",
              "      <td>1.0</td>\n",
              "      <td>0</td>\n",
              "      <td>0</td>\n",
              "      <td>0</td>\n",
              "      <td>0</td>\n",
              "      <td>0</td>\n",
              "      <td>22</td>\n",
              "      <td>...</td>\n",
              "      <td>0</td>\n",
              "      <td>0</td>\n",
              "      <td>0</td>\n",
              "      <td>0</td>\n",
              "      <td>0</td>\n",
              "      <td>0</td>\n",
              "      <td>0</td>\n",
              "      <td>0</td>\n",
              "      <td>1</td>\n",
              "      <td>0</td>\n",
              "    </tr>\n",
              "  </tbody>\n",
              "</table>\n",
              "<p>5 rows × 112 columns</p>\n",
              "</div>"
            ],
            "text/plain": [
              "   ADDR_PCT_CD  CRM_ATPT_CPTD_CD  LAW_CAT_CD  LOC_OF_OCCUR_DESC  PARKS_NM  \\\n",
              "0           41                 0           1               -1.0         0   \n",
              "1          104                 0           1                1.0         0   \n",
              "2           41                 0           1                1.0         0   \n",
              "3           28                 0           1                0.0         0   \n",
              "4           52                 0           0                1.0         0   \n",
              "\n",
              "   SUSP_RACE  SUSP_SEX  VIC_RACE  VIC_SEX  hour   ...     hour_14  hour_15  \\\n",
              "0          1         1         0        0    23   ...           0        0   \n",
              "1          2         1         0        0    23   ...           0        0   \n",
              "2          1         1         0        0    22   ...           0        0   \n",
              "3          1         2         0        0    22   ...           0        0   \n",
              "4          0         0         0        0    22   ...           0        0   \n",
              "\n",
              "   hour_16  hour_17  hour_18  hour_19  hour_20  hour_21  hour_22  hour_23  \n",
              "0        0        0        0        0        0        0        0        1  \n",
              "1        0        0        0        0        0        0        0        1  \n",
              "2        0        0        0        0        0        0        1        0  \n",
              "3        0        0        0        0        0        0        1        0  \n",
              "4        0        0        0        0        0        0        1        0  \n",
              "\n",
              "[5 rows x 112 columns]"
            ]
          },
          "metadata": {
            "tags": []
          },
          "execution_count": 12
        }
      ]
    },
    {
      "metadata": {
        "id": "x_8fY4FzmJyf",
        "colab_type": "code",
        "colab": {}
      },
      "cell_type": "code",
      "source": [
        "data_one_hop1['LOC_OF_OCCUR_DESC'] = data_one_hop1['LOC_OF_OCCUR_DESC'].replace(-1,5)"
      ],
      "execution_count": 0,
      "outputs": []
    },
    {
      "metadata": {
        "id": "0wcm8xl4mueI",
        "colab_type": "code",
        "colab": {}
      },
      "cell_type": "code",
      "source": [
        "data_one_hop_final = pd.concat([data_one_hop1,tester],axis = 1)\n"
      ],
      "execution_count": 0,
      "outputs": []
    },
    {
      "metadata": {
        "id": "7TVWINOCnnau",
        "colab_type": "code",
        "outputId": "25e09898-41a2-429b-9be7-4831445d307a",
        "colab": {
          "base_uri": "https://localhost:8080/",
          "height": 244
        }
      },
      "cell_type": "code",
      "source": [
        "data_one_hop_final.head()"
      ],
      "execution_count": 16,
      "outputs": [
        {
          "output_type": "execute_result",
          "data": {
            "text/html": [
              "<div>\n",
              "<style scoped>\n",
              "    .dataframe tbody tr th:only-of-type {\n",
              "        vertical-align: middle;\n",
              "    }\n",
              "\n",
              "    .dataframe tbody tr th {\n",
              "        vertical-align: top;\n",
              "    }\n",
              "\n",
              "    .dataframe thead th {\n",
              "        text-align: right;\n",
              "    }\n",
              "</style>\n",
              "<table border=\"1\" class=\"dataframe\">\n",
              "  <thead>\n",
              "    <tr style=\"text-align: right;\">\n",
              "      <th></th>\n",
              "      <th>ADDR_PCT_CD</th>\n",
              "      <th>CRM_ATPT_CPTD_CD</th>\n",
              "      <th>LAW_CAT_CD</th>\n",
              "      <th>LOC_OF_OCCUR_DESC</th>\n",
              "      <th>PARKS_NM</th>\n",
              "      <th>SUSP_RACE</th>\n",
              "      <th>SUSP_SEX</th>\n",
              "      <th>VIC_RACE</th>\n",
              "      <th>VIC_SEX</th>\n",
              "      <th>hour</th>\n",
              "      <th>...</th>\n",
              "      <th>hour_15</th>\n",
              "      <th>hour_16</th>\n",
              "      <th>hour_17</th>\n",
              "      <th>hour_18</th>\n",
              "      <th>hour_19</th>\n",
              "      <th>hour_20</th>\n",
              "      <th>hour_21</th>\n",
              "      <th>hour_22</th>\n",
              "      <th>hour_23</th>\n",
              "      <th>KY_CD</th>\n",
              "    </tr>\n",
              "  </thead>\n",
              "  <tbody>\n",
              "    <tr>\n",
              "      <th>0</th>\n",
              "      <td>41</td>\n",
              "      <td>0</td>\n",
              "      <td>1</td>\n",
              "      <td>5.0</td>\n",
              "      <td>0</td>\n",
              "      <td>1</td>\n",
              "      <td>1</td>\n",
              "      <td>0</td>\n",
              "      <td>0</td>\n",
              "      <td>23</td>\n",
              "      <td>...</td>\n",
              "      <td>0</td>\n",
              "      <td>0</td>\n",
              "      <td>0</td>\n",
              "      <td>0</td>\n",
              "      <td>0</td>\n",
              "      <td>0</td>\n",
              "      <td>0</td>\n",
              "      <td>0</td>\n",
              "      <td>1</td>\n",
              "      <td>235</td>\n",
              "    </tr>\n",
              "    <tr>\n",
              "      <th>1</th>\n",
              "      <td>104</td>\n",
              "      <td>0</td>\n",
              "      <td>1</td>\n",
              "      <td>1.0</td>\n",
              "      <td>0</td>\n",
              "      <td>2</td>\n",
              "      <td>1</td>\n",
              "      <td>0</td>\n",
              "      <td>0</td>\n",
              "      <td>23</td>\n",
              "      <td>...</td>\n",
              "      <td>0</td>\n",
              "      <td>0</td>\n",
              "      <td>0</td>\n",
              "      <td>0</td>\n",
              "      <td>0</td>\n",
              "      <td>0</td>\n",
              "      <td>0</td>\n",
              "      <td>0</td>\n",
              "      <td>1</td>\n",
              "      <td>347</td>\n",
              "    </tr>\n",
              "    <tr>\n",
              "      <th>2</th>\n",
              "      <td>41</td>\n",
              "      <td>0</td>\n",
              "      <td>1</td>\n",
              "      <td>1.0</td>\n",
              "      <td>0</td>\n",
              "      <td>1</td>\n",
              "      <td>1</td>\n",
              "      <td>0</td>\n",
              "      <td>0</td>\n",
              "      <td>22</td>\n",
              "      <td>...</td>\n",
              "      <td>0</td>\n",
              "      <td>0</td>\n",
              "      <td>0</td>\n",
              "      <td>0</td>\n",
              "      <td>0</td>\n",
              "      <td>0</td>\n",
              "      <td>0</td>\n",
              "      <td>1</td>\n",
              "      <td>0</td>\n",
              "      <td>235</td>\n",
              "    </tr>\n",
              "    <tr>\n",
              "      <th>3</th>\n",
              "      <td>28</td>\n",
              "      <td>0</td>\n",
              "      <td>1</td>\n",
              "      <td>0.0</td>\n",
              "      <td>0</td>\n",
              "      <td>1</td>\n",
              "      <td>2</td>\n",
              "      <td>0</td>\n",
              "      <td>0</td>\n",
              "      <td>22</td>\n",
              "      <td>...</td>\n",
              "      <td>0</td>\n",
              "      <td>0</td>\n",
              "      <td>0</td>\n",
              "      <td>0</td>\n",
              "      <td>0</td>\n",
              "      <td>0</td>\n",
              "      <td>0</td>\n",
              "      <td>1</td>\n",
              "      <td>0</td>\n",
              "      <td>341</td>\n",
              "    </tr>\n",
              "    <tr>\n",
              "      <th>4</th>\n",
              "      <td>52</td>\n",
              "      <td>0</td>\n",
              "      <td>0</td>\n",
              "      <td>1.0</td>\n",
              "      <td>0</td>\n",
              "      <td>0</td>\n",
              "      <td>0</td>\n",
              "      <td>0</td>\n",
              "      <td>0</td>\n",
              "      <td>22</td>\n",
              "      <td>...</td>\n",
              "      <td>0</td>\n",
              "      <td>0</td>\n",
              "      <td>0</td>\n",
              "      <td>0</td>\n",
              "      <td>0</td>\n",
              "      <td>0</td>\n",
              "      <td>0</td>\n",
              "      <td>1</td>\n",
              "      <td>0</td>\n",
              "      <td>113</td>\n",
              "    </tr>\n",
              "  </tbody>\n",
              "</table>\n",
              "<p>5 rows × 113 columns</p>\n",
              "</div>"
            ],
            "text/plain": [
              "   ADDR_PCT_CD  CRM_ATPT_CPTD_CD  LAW_CAT_CD  LOC_OF_OCCUR_DESC  PARKS_NM  \\\n",
              "0           41                 0           1                5.0         0   \n",
              "1          104                 0           1                1.0         0   \n",
              "2           41                 0           1                1.0         0   \n",
              "3           28                 0           1                0.0         0   \n",
              "4           52                 0           0                1.0         0   \n",
              "\n",
              "   SUSP_RACE  SUSP_SEX  VIC_RACE  VIC_SEX  hour  ...    hour_15  hour_16  \\\n",
              "0          1         1         0        0    23  ...          0        0   \n",
              "1          2         1         0        0    23  ...          0        0   \n",
              "2          1         1         0        0    22  ...          0        0   \n",
              "3          1         2         0        0    22  ...          0        0   \n",
              "4          0         0         0        0    22  ...          0        0   \n",
              "\n",
              "   hour_17  hour_18  hour_19  hour_20  hour_21  hour_22  hour_23  KY_CD  \n",
              "0        0        0        0        0        0        0        1    235  \n",
              "1        0        0        0        0        0        0        1    347  \n",
              "2        0        0        0        0        0        1        0    235  \n",
              "3        0        0        0        0        0        1        0    341  \n",
              "4        0        0        0        0        0        1        0    113  \n",
              "\n",
              "[5 rows x 113 columns]"
            ]
          },
          "metadata": {
            "tags": []
          },
          "execution_count": 16
        }
      ]
    },
    {
      "metadata": {
        "id": "iHrdpTDpmvxK",
        "colab_type": "code",
        "colab": {}
      },
      "cell_type": "code",
      "source": [
        "import numpy as np\n",
        "s = np.random.rand(len(data_one_hop_final)) <= 0.80\n",
        "train = data_one_hop_final[s]\n",
        "test = data_one_hop_final[~s]\n",
        "train_df = train.iloc[:,:-1]\n",
        "test_df = test.iloc[:,:-1]\n",
        "\n",
        "y_train = train.iloc[:,-1]\n",
        "y_test = test.iloc[:,-1]"
      ],
      "execution_count": 0,
      "outputs": []
    },
    {
      "metadata": {
        "id": "BFjZr6r3Iiqy",
        "colab_type": "code",
        "colab": {}
      },
      "cell_type": "code",
      "source": [
        "label = data_one_hop_final.KY_CD.unique().tolist()"
      ],
      "execution_count": 0,
      "outputs": []
    },
    {
      "metadata": {
        "id": "VVbx8c-_uxPr",
        "colab_type": "text"
      },
      "cell_type": "markdown",
      "source": [
        "DECISION TREE"
      ]
    },
    {
      "metadata": {
        "id": "V55p_L4Focub",
        "colab_type": "code",
        "outputId": "833327ba-2525-4acf-9aa3-d35767d9b175",
        "colab": {
          "base_uri": "https://localhost:8080/",
          "height": 52
        }
      },
      "cell_type": "code",
      "source": [
        "from sklearn.tree import DecisionTreeClassifier\n",
        "dtree1 = DecisionTreeClassifier(criterion='entropy')\n",
        "dtree1.fit(train_df,y_train)\n",
        "train_churndep_DT=dtree1.predict(train_df)\n",
        "test_churndep_DT=dtree1.predict(test_df)\n",
        "\n",
        "accuracy_train_df = sum((y_train-train_churndep_DT)==0)/len(y_train)*100\n",
        "accuarcy_test_df = sum((y_test-test_churndep_DT)==0)/len(y_test)*100\n",
        "\n",
        "print(accuracy_train_df)\n",
        "print(accuarcy_test_df)"
      ],
      "execution_count": 36,
      "outputs": [
        {
          "output_type": "stream",
          "text": [
            "94.65386759697283\n",
            "52.081189376190586\n"
          ],
          "name": "stdout"
        }
      ]
    },
    {
      "metadata": {
        "id": "-S4k6r5xqfIg",
        "colab_type": "code",
        "colab": {
          "base_uri": "https://localhost:8080/",
          "height": 993
        },
        "outputId": "5db99b55-332d-47fd-f812-644f7c54950d"
      },
      "cell_type": "code",
      "source": [
        "import matplotlib.pyplot as plt\n",
        "import pylab as pl\n",
        "cm = confusion_matrix(y_test, test_churndep_DT, label)\n",
        "print(cm)\n",
        "fig = plt.figure(figsize=(15,15))\n",
        "ax = fig.add_subplot(111)\n",
        "cax = ax.matshow(cm)\n",
        "plt.title('Confusion matrix of the classifier')\n",
        "plt.colorbar(cax)\n",
        "ax.set_xticklabels([''] + label, fontsize=12.0)\n",
        "ax.set_yticklabels([''] + label, fontsize=12.0)\n",
        "plt.xlabel('Predicted', fontsize=12.0)\n",
        "plt.ylabel('True', fontsize=12.0)\n",
        "plt.show()\n",
        "pl.savefig('cm1.png')"
      ],
      "execution_count": 38,
      "outputs": [
        {
          "output_type": "stream",
          "text": [
            "[[ 797   74   15 ...    0    0    0]\n",
            " [  78  274    4 ...    0    0    0]\n",
            " [  17   10 5366 ...    0    0    0]\n",
            " ...\n",
            " [   0    0    0 ...    0    0    0]\n",
            " [   0    0    0 ...    0    0    0]\n",
            " [   0    0    0 ...    0    0    0]]\n"
          ],
          "name": "stdout"
        },
        {
          "output_type": "display_data",
          "data": {
            "image/png": "[encoded data removed]",
            "text/plain": [
              "<Figure size 1080x1080 with 2 Axes>"
            ]
          },
          "metadata": {
            "tags": []
          }
        },
        {
          "output_type": "display_data",
          "data": {
            "text/plain": [
              "<Figure size 576x396 with 0 Axes>"
            ]
          },
          "metadata": {
            "tags": []
          }
        }
      ]
    },
    {
      "metadata": {
        "id": "ionHO3Zxu1bP",
        "colab_type": "text"
      },
      "cell_type": "markdown",
      "source": [
        "MULTILAYER PERCEPTRON"
      ]
    },
    {
      "metadata": {
        "id": "y8k1KYRrpblz",
        "colab_type": "code",
        "outputId": "de6e58e8-73d4-4bb5-f751-77a5d541485c",
        "colab": {
          "base_uri": "https://localhost:8080/",
          "height": 52
        }
      },
      "cell_type": "code",
      "source": [
        "from sklearn.neural_network import MLPClassifier\n",
        "clf1 = MLPClassifier(learning_rate = 'constant', activation = 'relu', alpha=1, batch_size = 300)\n",
        "clf1.fit(train_df,y_train)\n",
        "train_churndep1_MLP=clf1.predict(train_df)\n",
        "test_churndep1_MLP=clf1.predict(test_df)\n",
        "\n",
        "accuracy_train_df = sum((y_train-train_churndep1_MLP)==0)/len(y_train)*100\n",
        "accuarcy_test_df = sum((y_test-test_churndep1_MLP)==0)/len(y_test)*100\n",
        "\n",
        "print(accuracy_train_df)\n",
        "print(accuarcy_test_df)"
      ],
      "execution_count": 18,
      "outputs": [
        {
          "output_type": "stream",
          "text": [
            "60.26805182188023\n",
            "60.708107989752804\n"
          ],
          "name": "stdout"
        }
      ]
    },
    {
      "metadata": {
        "id": "UpZtO1OPJxit",
        "colab_type": "code",
        "outputId": "8b69afe6-be62-434e-d608-c7dee54b7e0a",
        "colab": {
          "base_uri": "https://localhost:8080/",
          "height": 993
        }
      },
      "cell_type": "code",
      "source": [
        "import matplotlib.pyplot as plt\n",
        "import pylab as pl\n",
        "cm = confusion_matrix(y_test, test_churndep1_MLP, label)\n",
        "print(cm)\n",
        "fig = plt.figure(figsize=(15,15))\n",
        "ax = fig.add_subplot(111)\n",
        "cax = ax.matshow(cm)\n",
        "plt.title('Confusion matrix of the classifier')\n",
        "plt.colorbar(cax)\n",
        "ax.set_xticklabels([''] + label, fontsize=12.0)\n",
        "ax.set_yticklabels([''] + label, fontsize=12.0)\n",
        "plt.xlabel('Predicted', fontsize=12.0)\n",
        "plt.ylabel('True', fontsize=12.0)\n",
        "plt.show()\n",
        "pl.savefig('cm1.png')"
      ],
      "execution_count": 40,
      "outputs": [
        {
          "output_type": "stream",
          "text": [
            "[[1117   50    6 ...    0    0    0]\n",
            " [ 142  243    7 ...    0    0    0]\n",
            " [  15    0 6937 ...    0    0    0]\n",
            " ...\n",
            " [   0    0    0 ...    0    0    0]\n",
            " [   0    0    0 ...    0    0    0]\n",
            " [   0    0    0 ...    0    0    0]]\n"
          ],
          "name": "stdout"
        },
        {
          "output_type": "display_data",
          "data": {
            "image/png": "[encoded data removed]",
            "text/plain": [
              "<Figure size 1080x1080 with 2 Axes>"
            ]
          },
          "metadata": {
            "tags": []
          }
        },
        {
          "output_type": "display_data",
          "data": {
            "text/plain": [
              "<Figure size 576x396 with 0 Axes>"
            ]
          },
          "metadata": {
            "tags": []
          }
        }
      ]
    },
    {
      "metadata": {
        "id": "28uhLAK7u95d",
        "colab_type": "text"
      },
      "cell_type": "markdown",
      "source": [
        "MULTINOMIAL NAIVE BAYES"
      ]
    },
    {
      "metadata": {
        "id": "9CJ2jG7So4-u",
        "colab_type": "code",
        "outputId": "4bb57d3c-a246-48ed-dff5-ea3895ec670f",
        "colab": {
          "base_uri": "https://localhost:8080/",
          "height": 52
        }
      },
      "cell_type": "code",
      "source": [
        "from sklearn.naive_bayes import MultinomialNB\n",
        "clf = MultinomialNB()\n",
        "clf.fit(train_df,y_train)\n",
        "train_churndep_MNB=clf.predict(train_df)\n",
        "test_churndep_MNB=clf.predict(test_df)\n",
        "\n",
        "accuracy_train_df = sum((y_train-train_churndep_MNB)==0)/len(y_train)*100\n",
        "accuarcy_test_df = sum((y_test-test_churndep_MNB)==0)/len(y_test)*100\n",
        "\n",
        "print(accuracy_train_df)\n",
        "print(accuarcy_test_df)"
      ],
      "execution_count": 20,
      "outputs": [
        {
          "output_type": "stream",
          "text": [
            "45.818866299769816\n",
            "46.23940793939261\n"
          ],
          "name": "stdout"
        }
      ]
    },
    {
      "metadata": {
        "id": "SoXCA7HKouGF",
        "colab_type": "code",
        "colab": {
          "base_uri": "https://localhost:8080/",
          "height": 993
        },
        "outputId": "a56823db-5735-499e-bab8-116f6ae80b62"
      },
      "cell_type": "code",
      "source": [
        "import matplotlib.pyplot as plt\n",
        "import pylab as pl \n",
        "from sklearn.metrics import confusion_matrix\n",
        "\n",
        "cm = confusion_matrix(y_test, test_churndep_MNB, label)\n",
        "print(cm)\n",
        "fig = plt.figure(figsize=(15,15))\n",
        "ax = fig.add_subplot(111)\n",
        "cax = ax.matshow(cm)\n",
        "plt.title('Confusion matrix of the classifier')\n",
        "plt.colorbar(cax)\n",
        "ax.set_xticklabels([''] + label, fontsize=12.0)\n",
        "ax.set_yticklabels([''] + label, fontsize=12.0)\n",
        "plt.xlabel('Predicted', fontsize=12.0)\n",
        "plt.ylabel('True', fontsize=12.0)\n",
        "plt.show()\n",
        "pl.savefig('cm1.png')"
      ],
      "execution_count": 26,
      "outputs": [
        {
          "output_type": "stream",
          "text": [
            "[[ 988  163    4 ...    0    0    0]\n",
            " [  74  365    1 ...    0    0    0]\n",
            " [ 230   16 2919 ...    0    0    0]\n",
            " ...\n",
            " [   0    0    0 ...    0    0    0]\n",
            " [   0    0    0 ...    0    0    0]\n",
            " [   0    0    0 ...    0    0    0]]\n"
          ],
          "name": "stdout"
        },
        {
          "output_type": "display_data",
          "data": {
            "image/png": "[encoded data removed]",
            "text/plain": [
              "<Figure size 1080x1080 with 2 Axes>"
            ]
          },
          "metadata": {
            "tags": []
          }
        },
        {
          "output_type": "display_data",
          "data": {
            "text/plain": [
              "<Figure size 576x396 with 0 Axes>"
            ]
          },
          "metadata": {
            "tags": []
          }
        }
      ]
    },
    {
      "metadata": {
        "id": "Y7eS7EgovGPO",
        "colab_type": "text"
      },
      "cell_type": "markdown",
      "source": [
        "LOGISTIC REGRESSION"
      ]
    },
    {
      "metadata": {
        "id": "eMQZ1-zKoxR7",
        "colab_type": "code",
        "outputId": "631c383a-49bc-4bc5-a29d-c00165c0c1a8",
        "colab": {
          "base_uri": "https://localhost:8080/",
          "height": 142
        }
      },
      "cell_type": "code",
      "source": [
        "from sklearn.linear_model import LogisticRegression\n",
        "l1 = LogisticRegression()\n",
        "l1.fit(train_df,y_train)\n",
        "train_churndep=l1.predict(train_df)\n",
        "test_churndep=l1.predict(test_df)\n",
        "\n",
        "accuracy_train_df = sum((y_train-train_churndep)==0)/len(y_train)*100\n",
        "accuarcy_test_df = sum((y_test-test_churndep)==0)/len(y_test)*100\n",
        "\n",
        "print(accuracy_train_df)\n",
        "print(accuarcy_test_df)"
      ],
      "execution_count": 29,
      "outputs": [
        {
          "output_type": "stream",
          "text": [
            "/usr/local/lib/python3.6/dist-packages/sklearn/linear_model/logistic.py:433: FutureWarning: Default solver will be changed to 'lbfgs' in 0.22. Specify a solver to silence this warning.\n",
            "  FutureWarning)\n",
            "/usr/local/lib/python3.6/dist-packages/sklearn/linear_model/logistic.py:460: FutureWarning: Default multi_class will be changed to 'auto' in 0.22. Specify the multi_class option to silence this warning.\n",
            "  \"this warning.\", FutureWarning)\n"
          ],
          "name": "stderr"
        },
        {
          "output_type": "stream",
          "text": [
            "59.929123035565446\n",
            "60.276762059074684\n"
          ],
          "name": "stdout"
        }
      ]
    },
    {
      "metadata": {
        "id": "2AIVI9W_qCHS",
        "colab_type": "code",
        "colab": {
          "base_uri": "https://localhost:8080/",
          "height": 993
        },
        "outputId": "f4745e36-c26e-4489-b7b6-ad0ba07b173d"
      },
      "cell_type": "code",
      "source": [
        "import matplotlib.pyplot as plt\n",
        "import pylab as pl \n",
        "from sklearn.metrics import confusion_matrix\n",
        "\n",
        "cm = confusion_matrix(y_test, test_churndep, label)\n",
        "print(cm)\n",
        "fig = plt.figure(figsize=(15,15))\n",
        "ax = fig.add_subplot(111)\n",
        "cax = ax.matshow(cm)\n",
        "plt.title('Confusion matrix of the classifier')\n",
        "plt.colorbar(cax)\n",
        "ax.set_xticklabels([''] + label, fontsize=12.0)\n",
        "ax.set_yticklabels([''] + label, fontsize=12.0)\n",
        "plt.xlabel('Predicted', fontsize=12.0)\n",
        "plt.ylabel('True', fontsize=12.0)\n",
        "plt.show()\n",
        "pl.savefig('cm1.png')"
      ],
      "execution_count": 30,
      "outputs": [
        {
          "output_type": "stream",
          "text": [
            "[[1111   72    7 ...    0    0    0]\n",
            " [  85  329    5 ...    0    0    0]\n",
            " [  16    0 6765 ...    0    0    0]\n",
            " ...\n",
            " [   0    0    0 ...    0    0    0]\n",
            " [   0    0    0 ...    0    0    0]\n",
            " [   0    0    0 ...    0    0    0]]\n"
          ],
          "name": "stdout"
        },
        {
          "output_type": "display_data",
          "data": {
            "image/png": "[encoded data removed]",
            "text/plain": [
              "<Figure size 1080x1080 with 2 Axes>"
            ]
          },
          "metadata": {
            "tags": []
          }
        },
        {
          "output_type": "display_data",
          "data": {
            "text/plain": [
              "<Figure size 576x396 with 0 Axes>"
            ]
          },
          "metadata": {
            "tags": []
          }
        }
      ]
    },
    {
      "metadata": {
        "id": "QdPYGnEsvQnK",
        "colab_type": "text"
      },
      "cell_type": "markdown",
      "source": [
        "RANDOM FOREST CLASSIFIER"
      ]
    },
    {
      "metadata": {
        "id": "KyJ82DJsuE2p",
        "colab_type": "code",
        "outputId": "21db38aa-b913-42a8-da87-2d10de42555c",
        "colab": {
          "base_uri": "https://localhost:8080/",
          "height": 52
        }
      },
      "cell_type": "code",
      "source": [
        "from sklearn.ensemble import RandomForestClassifier\n",
        "from sklearn.model_selection import cross_val_score\n",
        "rc=RandomForestClassifier(n_estimators=10, criterion='entropy', max_features=3)\n",
        "rc.fit(train_df,y_train)\n",
        "train_churndep_RC=rc.predict(train_df)\n",
        "test_churndep_RC=rc.predict(test_df)\n",
        "\n",
        "accuracy_train_df = sum((y_train-train_churndep_RC)==0)/len(y_train)*100\n",
        "accuarcy_test_df = sum((y_test-test_churndep_RC)==0)/len(y_test)*100\n",
        "\n",
        "print(accuracy_train_df)\n",
        "print(accuarcy_test_df)"
      ],
      "execution_count": 27,
      "outputs": [
        {
          "output_type": "stream",
          "text": [
            "92.31724617601112\n",
            "54.65174837424186\n"
          ],
          "name": "stdout"
        }
      ]
    },
    {
      "metadata": {
        "id": "EFSd3K2apIGl",
        "colab_type": "code",
        "colab": {
          "base_uri": "https://localhost:8080/",
          "height": 993
        },
        "outputId": "659e095a-1d01-49b8-88b5-981401daaaa0"
      },
      "cell_type": "code",
      "source": [
        "import matplotlib.pyplot as plt\n",
        "import pylab as pl \n",
        "from sklearn.metrics import confusion_matrix\n",
        "\n",
        "cm = confusion_matrix(y_test, test_churndep_RC, label)\n",
        "print(cm)\n",
        "fig = plt.figure(figsize=(15,15))\n",
        "ax = fig.add_subplot(111)\n",
        "cax = ax.matshow(cm)\n",
        "plt.title('Confusion matrix of the classifier')\n",
        "plt.colorbar(cax)\n",
        "ax.set_xticklabels([''] + label, fontsize=12.0)\n",
        "ax.set_yticklabels([''] + label, fontsize=12.0)\n",
        "plt.xlabel('Predicted', fontsize=12.0)\n",
        "plt.ylabel('True', fontsize=12.0)\n",
        "plt.show()\n",
        "pl.savefig('cm1.png')"
      ],
      "execution_count": 28,
      "outputs": [
        {
          "output_type": "stream",
          "text": [
            "[[ 805   74   12 ...    0    0    0]\n",
            " [  77  293    5 ...    0    0    0]\n",
            " [  11    6 5581 ...    0    0    0]\n",
            " ...\n",
            " [   0    0    0 ...    0    0    0]\n",
            " [   0    0    0 ...    0    0    0]\n",
            " [   0    0    0 ...    0    0    0]]\n"
          ],
          "name": "stdout"
        },
        {
          "output_type": "display_data",
          "data": {
            "image/png": "[encoded data removed]",
            "text/plain": [
              "<Figure size 1080x1080 with 2 Axes>"
            ]
          },
          "metadata": {
            "tags": []
          }
        },
        {
          "output_type": "display_data",
          "data": {
            "text/plain": [
              "<Figure size 576x396 with 0 Axes>"
            ]
          },
          "metadata": {
            "tags": []
          }
        }
      ]
    },
    {
      "metadata": {
        "id": "wgFd0QqEvVV-",
        "colab_type": "text"
      },
      "cell_type": "markdown",
      "source": [
        "VOTING CLASSIFIER"
      ]
    },
    {
      "metadata": {
        "id": "QYXBZ0ejWFlH",
        "colab_type": "code",
        "outputId": "838f8601-c77c-405a-aeb2-592c3becae4b",
        "colab": {
          "base_uri": "https://localhost:8080/",
          "height": 52
        }
      },
      "cell_type": "code",
      "source": [
        "from sklearn.ensemble import VotingClassifier\n",
        "eclf2 = VotingClassifier(estimators=[('lr', rc), ('rf', clf1), ('gnb', clf)], voting='hard')\n",
        "\n",
        "eclf2.fit(train_df,y_train)\n",
        "train_churndep3=eclf2.predict(train_df)\n",
        "test_churndep3=eclf2.predict(test_df)\n",
        "\n",
        "accuracy_train_df = sum((y_train-train_churndep3)==0)/len(y_train)*100\n",
        "accuarcy_test_df = sum((y_test-test_churndep3)==0)/len(y_test)*100\n",
        "\n",
        "print(accuracy_train_df)\n",
        "print(accuarcy_test_df)"
      ],
      "execution_count": 32,
      "outputs": [
        {
          "output_type": "stream",
          "text": [
            "69.20660855933185\n",
            "58.92360578923168\n"
          ],
          "name": "stdout"
        }
      ]
    },
    {
      "metadata": {
        "id": "gH7xBzZnGsXh",
        "colab_type": "code",
        "colab": {
          "base_uri": "https://localhost:8080/",
          "height": 993
        },
        "outputId": "7fa45169-88aa-446d-aae5-a618bcaf747d"
      },
      "cell_type": "code",
      "source": [
        "#Confusion Matrix\n",
        "\n",
        "cm = confusion_matrix(y_test, test_churndep3, label)\n",
        "print(cm)\n",
        "fig = plt.figure(figsize=(15,15))\n",
        "ax = fig.add_subplot(111)\n",
        "cax = ax.matshow(cm)\n",
        "plt.title('Confusion matrix of the classifier')\n",
        "fig.colorbar(cax)\n",
        "ax.set_xticklabels([''] + label, fontsize=12.0)\n",
        "ax.set_yticklabels([''] + label, fontsize=12.0)\n",
        "plt.xlabel('Predicted', fontsize=12.0)\n",
        "plt.ylabel('True', fontsize=12.0)\n",
        "plt.show()\n",
        "pl.savefig('cm1.png')"
      ],
      "execution_count": 35,
      "outputs": [
        {
          "output_type": "stream",
          "text": [
            "[[1082   95    7 ...    0    0    0]\n",
            " [  95  333    6 ...    0    0    0]\n",
            " [  30    3 6445 ...    0    0    0]\n",
            " ...\n",
            " [   0    0    0 ...    0    0    0]\n",
            " [   0    0    0 ...    0    0    0]\n",
            " [   0    0    0 ...    0    0    0]]\n"
          ],
          "name": "stdout"
        },
        {
          "output_type": "display_data",
          "data": {
            "image/png": "[encoded data removed]",
            "text/plain": [
              "<Figure size 1080x1080 with 2 Axes>"
            ]
          },
          "metadata": {
            "tags": []
          }
        },
        {
          "output_type": "display_data",
          "data": {
            "text/plain": [
              "<Figure size 576x396 with 0 Axes>"
            ]
          },
          "metadata": {
            "tags": []
          }
        }
      ]
    },
    {
      "metadata": {
        "id": "jZpsRSOQeTpB",
        "colab_type": "code",
        "colab": {}
      },
      "cell_type": "code",
      "source": [
        ""
      ],
      "execution_count": 0,
      "outputs": []
    }
  ]
}